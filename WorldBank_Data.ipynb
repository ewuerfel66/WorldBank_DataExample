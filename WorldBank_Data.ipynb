{
 "cells": [
  {
   "cell_type": "code",
   "execution_count": 1,
   "metadata": {},
   "outputs": [],
   "source": [
    "import pandas as pd\n",
    "import matplotlib.pyplot as plt\n",
    "import numpy as np"
   ]
  },
  {
   "cell_type": "markdown",
   "metadata": {},
   "source": [
    "* Download the csv file from WorldBank\n",
    "* It should actually give you a zip with the csv inside\n",
    "* Put the zip file into the same folder as your data analysis"
   ]
  },
  {
   "cell_type": "code",
   "execution_count": 2,
   "metadata": {},
   "outputs": [
    {
     "name": "stdout",
     "output_type": "stream",
     "text": [
      "Archive:  API_PAK_DS2_en_csv_v2_323225.zip\n",
      "replace Metadata_Indicator_API_PAK_DS2_en_csv_v2_323225.csv? [y]es, [n]o, [A]ll, [N]one, [r]ename: ^C\n"
     ]
    }
   ],
   "source": [
    "# unzip - '!' executes a terminal command rather than Python\n",
    "!unzip API_PAK_DS2_en_csv_v2_323225.zip"
   ]
  },
  {
   "cell_type": "markdown",
   "metadata": {},
   "source": [
    "Looks like it gives us three files\n",
    "\n",
    "Use df.head() to look at the format of the data"
   ]
  },
  {
   "cell_type": "code",
   "execution_count": 3,
   "metadata": {},
   "outputs": [],
   "source": [
    "# df stands for 'dataframe'\n",
    "gdp_metadata_df = pd.read_csv('Metadata_Indicator_API_PAK_DS2_en_csv_v2_323225.csv')\n",
    "country_metadata_df = pd.read_csv('Metadata_Country_API_PAK_DS2_en_csv_v2_323225.csv')\n",
    "# gdp_df = pd.read_csv('API_PAK_DS2_en_csv_v2_323225.csv')"
   ]
  },
  {
   "cell_type": "code",
   "execution_count": 4,
   "metadata": {
    "scrolled": true
   },
   "outputs": [
    {
     "name": "stdout",
     "output_type": "stream",
     "text": [
      "GDP Metadata\n",
      "      INDICATOR_CODE                                     INDICATOR_NAME  \\\n",
      "0  TM.VAL.MRCH.R6.ZS  Merchandise imports from low- and middle-incom...   \n",
      "1  TM.VAL.MRCH.R5.ZS  Merchandise imports from low- and middle-incom...   \n",
      "2  TM.VAL.MRCH.R4.ZS  Merchandise imports from low- and middle-incom...   \n",
      "3  TM.VAL.MRCH.R3.ZS  Merchandise imports from low- and middle-incom...   \n",
      "4  TM.VAL.MRCH.R2.ZS  Merchandise imports from low- and middle-incom...   \n",
      "\n",
      "                                         SOURCE_NOTE  \\\n",
      "0  Merchandise imports from low- and middle-incom...   \n",
      "1  Merchandise imports from low- and middle-incom...   \n",
      "2  Merchandise imports from low- and middle-incom...   \n",
      "3  Merchandise imports from low- and middle-incom...   \n",
      "4  Merchandise imports from low- and middle-incom...   \n",
      "\n",
      "                                 SOURCE_ORGANIZATION  Unnamed: 4  \n",
      "0  World Bank staff estimates based data from Int...         NaN  \n",
      "1  World Bank staff estimates based data from Int...         NaN  \n",
      "2  World Bank staff estimates based data from Int...         NaN  \n",
      "3  World Bank staff estimates based data from Int...         NaN  \n",
      "4  World Bank staff estimates based data from Int...         NaN  \n",
      "\n",
      "Country Metadata\n"
     ]
    },
    {
     "data": {
      "text/html": [
       "<div>\n",
       "<style scoped>\n",
       "    .dataframe tbody tr th:only-of-type {\n",
       "        vertical-align: middle;\n",
       "    }\n",
       "\n",
       "    .dataframe tbody tr th {\n",
       "        vertical-align: top;\n",
       "    }\n",
       "\n",
       "    .dataframe thead th {\n",
       "        text-align: right;\n",
       "    }\n",
       "</style>\n",
       "<table border=\"1\" class=\"dataframe\">\n",
       "  <thead>\n",
       "    <tr style=\"text-align: right;\">\n",
       "      <th></th>\n",
       "      <th>Country Code</th>\n",
       "      <th>Region</th>\n",
       "      <th>IncomeGroup</th>\n",
       "      <th>SpecialNotes</th>\n",
       "      <th>TableName</th>\n",
       "      <th>Unnamed: 5</th>\n",
       "    </tr>\n",
       "  </thead>\n",
       "  <tbody>\n",
       "    <tr>\n",
       "      <td>0</td>\n",
       "      <td>PAK</td>\n",
       "      <td>South Asia</td>\n",
       "      <td>Lower middle income</td>\n",
       "      <td>Fiscal year end: June 30; reporting period for...</td>\n",
       "      <td>Pakistan</td>\n",
       "      <td>NaN</td>\n",
       "    </tr>\n",
       "  </tbody>\n",
       "</table>\n",
       "</div>"
      ],
      "text/plain": [
       "  Country Code      Region          IncomeGroup  \\\n",
       "0          PAK  South Asia  Lower middle income   \n",
       "\n",
       "                                        SpecialNotes TableName  Unnamed: 5  \n",
       "0  Fiscal year end: June 30; reporting period for...  Pakistan         NaN  "
      ]
     },
     "execution_count": 4,
     "metadata": {},
     "output_type": "execute_result"
    }
   ],
   "source": [
    "print('GDP Metadata')\n",
    "print(gdp_metadata_df.head())\n",
    "print('')\n",
    "print('Country Metadata')\n",
    "country_metadata_df.head()"
   ]
  },
  {
   "cell_type": "markdown",
   "metadata": {},
   "source": [
    "That stuff seems pretty useless\n",
    "\n",
    "The GDP data is irregularly formatted - open it in excel and look up the code you need\n",
    "\n",
    "I looked up: 'World Bank GDP per capita indicator code' and one of the links had 'NY.GDP.PCAP.CD'\n",
    "(This wasn't on the page, it was actually just in the description of the google results..)\n",
    "\n",
    "* Copy the row of years, and the row you want making sure they stay lined up\n",
    "* Paste them into a brand new excel sheet\n",
    "* Delete years without data so there aren't any empty cells in the table\n",
    "* Save this excel sheet as a csv (from save menu, or just edit the file name and add .csv instead of .xlsx)"
   ]
  },
  {
   "cell_type": "code",
   "execution_count": 5,
   "metadata": {},
   "outputs": [],
   "source": [
    "# You can get the file path by right-clicking on the file and selecting 'Get Info' or 'Get Path'\n",
    "# If you don't want to worry about path, put the file in the same folder/directory as the program\n",
    "gdp_df = pd.read_csv('Desktop/pakistan_gdp.csv', header=None)"
   ]
  },
  {
   "cell_type": "code",
   "execution_count": 6,
   "metadata": {},
   "outputs": [
    {
     "data": {
      "text/html": [
       "<div>\n",
       "<style scoped>\n",
       "    .dataframe tbody tr th:only-of-type {\n",
       "        vertical-align: middle;\n",
       "    }\n",
       "\n",
       "    .dataframe tbody tr th {\n",
       "        vertical-align: top;\n",
       "    }\n",
       "\n",
       "    .dataframe thead th {\n",
       "        text-align: right;\n",
       "    }\n",
       "</style>\n",
       "<table border=\"1\" class=\"dataframe\">\n",
       "  <thead>\n",
       "    <tr style=\"text-align: right;\">\n",
       "      <th></th>\n",
       "      <th>0</th>\n",
       "      <th>1</th>\n",
       "      <th>2</th>\n",
       "      <th>3</th>\n",
       "      <th>4</th>\n",
       "      <th>5</th>\n",
       "      <th>6</th>\n",
       "      <th>7</th>\n",
       "      <th>8</th>\n",
       "      <th>9</th>\n",
       "      <th>...</th>\n",
       "      <th>20</th>\n",
       "      <th>21</th>\n",
       "      <th>22</th>\n",
       "      <th>23</th>\n",
       "      <th>24</th>\n",
       "      <th>25</th>\n",
       "      <th>26</th>\n",
       "      <th>27</th>\n",
       "      <th>28</th>\n",
       "      <th>29</th>\n",
       "    </tr>\n",
       "  </thead>\n",
       "  <tbody>\n",
       "    <tr>\n",
       "      <td>0</td>\n",
       "      <td>Indicator Code</td>\n",
       "      <td>1990.000000</td>\n",
       "      <td>1991.000000</td>\n",
       "      <td>1992.000000</td>\n",
       "      <td>1993.000000</td>\n",
       "      <td>1994.000000</td>\n",
       "      <td>1995.000000</td>\n",
       "      <td>1996.000000</td>\n",
       "      <td>1997.000000</td>\n",
       "      <td>1998.000000</td>\n",
       "      <td>...</td>\n",
       "      <td>2009.000000</td>\n",
       "      <td>2010.000000</td>\n",
       "      <td>2011.000000</td>\n",
       "      <td>2012.000000</td>\n",
       "      <td>2013.00000</td>\n",
       "      <td>2014.00000</td>\n",
       "      <td>2015.000000</td>\n",
       "      <td>2016.000000</td>\n",
       "      <td>2017.000000</td>\n",
       "      <td>2018.000000</td>\n",
       "    </tr>\n",
       "    <tr>\n",
       "      <td>1</td>\n",
       "      <td>NY.GDP.PCAP.PP.CD</td>\n",
       "      <td>1983.002405</td>\n",
       "      <td>2092.958455</td>\n",
       "      <td>2242.209007</td>\n",
       "      <td>2272.332411</td>\n",
       "      <td>2342.064525</td>\n",
       "      <td>2440.610608</td>\n",
       "      <td>2532.653451</td>\n",
       "      <td>2528.826396</td>\n",
       "      <td>2548.877342</td>\n",
       "      <td>...</td>\n",
       "      <td>3966.565219</td>\n",
       "      <td>3988.656856</td>\n",
       "      <td>4094.527112</td>\n",
       "      <td>4228.513001</td>\n",
       "      <td>4398.38123</td>\n",
       "      <td>4593.96424</td>\n",
       "      <td>4762.296721</td>\n",
       "      <td>4975.654395</td>\n",
       "      <td>5249.206365</td>\n",
       "      <td>5543.897107</td>\n",
       "    </tr>\n",
       "  </tbody>\n",
       "</table>\n",
       "<p>2 rows × 30 columns</p>\n",
       "</div>"
      ],
      "text/plain": [
       "                  0            1            2            3            4   \\\n",
       "0     Indicator Code  1990.000000  1991.000000  1992.000000  1993.000000   \n",
       "1  NY.GDP.PCAP.PP.CD  1983.002405  2092.958455  2242.209007  2272.332411   \n",
       "\n",
       "            5            6            7            8            9   ...  \\\n",
       "0  1994.000000  1995.000000  1996.000000  1997.000000  1998.000000  ...   \n",
       "1  2342.064525  2440.610608  2532.653451  2528.826396  2548.877342  ...   \n",
       "\n",
       "            20           21           22           23          24          25  \\\n",
       "0  2009.000000  2010.000000  2011.000000  2012.000000  2013.00000  2014.00000   \n",
       "1  3966.565219  3988.656856  4094.527112  4228.513001  4398.38123  4593.96424   \n",
       "\n",
       "            26           27           28           29  \n",
       "0  2015.000000  2016.000000  2017.000000  2018.000000  \n",
       "1  4762.296721  4975.654395  5249.206365  5543.897107  \n",
       "\n",
       "[2 rows x 30 columns]"
      ]
     },
     "execution_count": 6,
     "metadata": {},
     "output_type": "execute_result"
    }
   ],
   "source": [
    "# Let's take a look\n",
    "gdp_df.head()"
   ]
  },
  {
   "cell_type": "code",
   "execution_count": 7,
   "metadata": {},
   "outputs": [
    {
     "data": {
      "text/html": [
       "<div>\n",
       "<style scoped>\n",
       "    .dataframe tbody tr th:only-of-type {\n",
       "        vertical-align: middle;\n",
       "    }\n",
       "\n",
       "    .dataframe tbody tr th {\n",
       "        vertical-align: top;\n",
       "    }\n",
       "\n",
       "    .dataframe thead th {\n",
       "        text-align: right;\n",
       "    }\n",
       "</style>\n",
       "<table border=\"1\" class=\"dataframe\">\n",
       "  <thead>\n",
       "    <tr style=\"text-align: right;\">\n",
       "      <th></th>\n",
       "      <th>1</th>\n",
       "      <th>2</th>\n",
       "      <th>3</th>\n",
       "      <th>4</th>\n",
       "      <th>5</th>\n",
       "      <th>6</th>\n",
       "      <th>7</th>\n",
       "      <th>8</th>\n",
       "      <th>9</th>\n",
       "      <th>10</th>\n",
       "      <th>...</th>\n",
       "      <th>20</th>\n",
       "      <th>21</th>\n",
       "      <th>22</th>\n",
       "      <th>23</th>\n",
       "      <th>24</th>\n",
       "      <th>25</th>\n",
       "      <th>26</th>\n",
       "      <th>27</th>\n",
       "      <th>28</th>\n",
       "      <th>29</th>\n",
       "    </tr>\n",
       "  </thead>\n",
       "  <tbody>\n",
       "    <tr>\n",
       "      <td>0</td>\n",
       "      <td>1990.000000</td>\n",
       "      <td>1991.000000</td>\n",
       "      <td>1992.000000</td>\n",
       "      <td>1993.000000</td>\n",
       "      <td>1994.000000</td>\n",
       "      <td>1995.000000</td>\n",
       "      <td>1996.000000</td>\n",
       "      <td>1997.000000</td>\n",
       "      <td>1998.000000</td>\n",
       "      <td>1999.000000</td>\n",
       "      <td>...</td>\n",
       "      <td>2009.000000</td>\n",
       "      <td>2010.000000</td>\n",
       "      <td>2011.000000</td>\n",
       "      <td>2012.000000</td>\n",
       "      <td>2013.00000</td>\n",
       "      <td>2014.00000</td>\n",
       "      <td>2015.000000</td>\n",
       "      <td>2016.000000</td>\n",
       "      <td>2017.000000</td>\n",
       "      <td>2018.000000</td>\n",
       "    </tr>\n",
       "    <tr>\n",
       "      <td>1</td>\n",
       "      <td>1983.002405</td>\n",
       "      <td>2092.958455</td>\n",
       "      <td>2242.209007</td>\n",
       "      <td>2272.332411</td>\n",
       "      <td>2342.064525</td>\n",
       "      <td>2440.610608</td>\n",
       "      <td>2532.653451</td>\n",
       "      <td>2528.826396</td>\n",
       "      <td>2548.877342</td>\n",
       "      <td>2607.203953</td>\n",
       "      <td>...</td>\n",
       "      <td>3966.565219</td>\n",
       "      <td>3988.656856</td>\n",
       "      <td>4094.527112</td>\n",
       "      <td>4228.513001</td>\n",
       "      <td>4398.38123</td>\n",
       "      <td>4593.96424</td>\n",
       "      <td>4762.296721</td>\n",
       "      <td>4975.654395</td>\n",
       "      <td>5249.206365</td>\n",
       "      <td>5543.897107</td>\n",
       "    </tr>\n",
       "  </tbody>\n",
       "</table>\n",
       "<p>2 rows × 29 columns</p>\n",
       "</div>"
      ],
      "text/plain": [
       "            1            2            3            4            5   \\\n",
       "0  1990.000000  1991.000000  1992.000000  1993.000000  1994.000000   \n",
       "1  1983.002405  2092.958455  2242.209007  2272.332411  2342.064525   \n",
       "\n",
       "            6            7            8            9            10  ...  \\\n",
       "0  1995.000000  1996.000000  1997.000000  1998.000000  1999.000000  ...   \n",
       "1  2440.610608  2532.653451  2528.826396  2548.877342  2607.203953  ...   \n",
       "\n",
       "            20           21           22           23          24          25  \\\n",
       "0  2009.000000  2010.000000  2011.000000  2012.000000  2013.00000  2014.00000   \n",
       "1  3966.565219  3988.656856  4094.527112  4228.513001  4398.38123  4593.96424   \n",
       "\n",
       "            26           27           28           29  \n",
       "0  2015.000000  2016.000000  2017.000000  2018.000000  \n",
       "1  4762.296721  4975.654395  5249.206365  5543.897107  \n",
       "\n",
       "[2 rows x 29 columns]"
      ]
     },
     "execution_count": 7,
     "metadata": {},
     "output_type": "execute_result"
    }
   ],
   "source": [
    "# Indicator code isn't necessary now that I think of it\n",
    "gdp_df = gdp_df.drop(0, axis=1) # axis: 0 is row, 1 is column\n",
    "gdp_df.head()"
   ]
  },
  {
   "cell_type": "code",
   "execution_count": 8,
   "metadata": {},
   "outputs": [
    {
     "data": {
      "text/html": [
       "<div>\n",
       "<style scoped>\n",
       "    .dataframe tbody tr th:only-of-type {\n",
       "        vertical-align: middle;\n",
       "    }\n",
       "\n",
       "    .dataframe tbody tr th {\n",
       "        vertical-align: top;\n",
       "    }\n",
       "\n",
       "    .dataframe thead th {\n",
       "        text-align: right;\n",
       "    }\n",
       "</style>\n",
       "<table border=\"1\" class=\"dataframe\">\n",
       "  <thead>\n",
       "    <tr style=\"text-align: right;\">\n",
       "      <th></th>\n",
       "      <th>0</th>\n",
       "      <th>1</th>\n",
       "    </tr>\n",
       "  </thead>\n",
       "  <tbody>\n",
       "    <tr>\n",
       "      <td>1</td>\n",
       "      <td>1990.0</td>\n",
       "      <td>1983.002405</td>\n",
       "    </tr>\n",
       "    <tr>\n",
       "      <td>2</td>\n",
       "      <td>1991.0</td>\n",
       "      <td>2092.958455</td>\n",
       "    </tr>\n",
       "    <tr>\n",
       "      <td>3</td>\n",
       "      <td>1992.0</td>\n",
       "      <td>2242.209007</td>\n",
       "    </tr>\n",
       "    <tr>\n",
       "      <td>4</td>\n",
       "      <td>1993.0</td>\n",
       "      <td>2272.332411</td>\n",
       "    </tr>\n",
       "    <tr>\n",
       "      <td>5</td>\n",
       "      <td>1994.0</td>\n",
       "      <td>2342.064525</td>\n",
       "    </tr>\n",
       "  </tbody>\n",
       "</table>\n",
       "</div>"
      ],
      "text/plain": [
       "        0            1\n",
       "1  1990.0  1983.002405\n",
       "2  1991.0  2092.958455\n",
       "3  1992.0  2242.209007\n",
       "4  1993.0  2272.332411\n",
       "5  1994.0  2342.064525"
      ]
     },
     "execution_count": 8,
     "metadata": {},
     "output_type": "execute_result"
    }
   ],
   "source": [
    "# What we have right now is the transpose of what pandas usually deals with\n",
    "gdp_df = gdp_df.transpose()\n",
    "gdp_df.head()"
   ]
  },
  {
   "cell_type": "code",
   "execution_count": 9,
   "metadata": {
    "scrolled": true
   },
   "outputs": [
    {
     "data": {
      "text/html": [
       "<div>\n",
       "<style scoped>\n",
       "    .dataframe tbody tr th:only-of-type {\n",
       "        vertical-align: middle;\n",
       "    }\n",
       "\n",
       "    .dataframe tbody tr th {\n",
       "        vertical-align: top;\n",
       "    }\n",
       "\n",
       "    .dataframe thead th {\n",
       "        text-align: right;\n",
       "    }\n",
       "</style>\n",
       "<table border=\"1\" class=\"dataframe\">\n",
       "  <thead>\n",
       "    <tr style=\"text-align: right;\">\n",
       "      <th></th>\n",
       "      <th>year</th>\n",
       "      <th>GDP/cap</th>\n",
       "    </tr>\n",
       "  </thead>\n",
       "  <tbody>\n",
       "    <tr>\n",
       "      <td>1</td>\n",
       "      <td>1990.0</td>\n",
       "      <td>1983.002405</td>\n",
       "    </tr>\n",
       "    <tr>\n",
       "      <td>2</td>\n",
       "      <td>1991.0</td>\n",
       "      <td>2092.958455</td>\n",
       "    </tr>\n",
       "    <tr>\n",
       "      <td>3</td>\n",
       "      <td>1992.0</td>\n",
       "      <td>2242.209007</td>\n",
       "    </tr>\n",
       "    <tr>\n",
       "      <td>4</td>\n",
       "      <td>1993.0</td>\n",
       "      <td>2272.332411</td>\n",
       "    </tr>\n",
       "    <tr>\n",
       "      <td>5</td>\n",
       "      <td>1994.0</td>\n",
       "      <td>2342.064525</td>\n",
       "    </tr>\n",
       "  </tbody>\n",
       "</table>\n",
       "</div>"
      ],
      "text/plain": [
       "     year      GDP/cap\n",
       "1  1990.0  1983.002405\n",
       "2  1991.0  2092.958455\n",
       "3  1992.0  2242.209007\n",
       "4  1993.0  2272.332411\n",
       "5  1994.0  2342.064525"
      ]
     },
     "execution_count": 9,
     "metadata": {},
     "output_type": "execute_result"
    }
   ],
   "source": [
    "# Set column names\n",
    "gdp_df.columns = ['year', 'GDP/cap']\n",
    "gdp_df.head()"
   ]
  },
  {
   "cell_type": "markdown",
   "metadata": {},
   "source": [
    "Check out the [Pandas Visualization Documentation](https://pandas.pydata.org/pandas-docs/stable/user_guide/visualization.html) for easy plotting.\n",
    "\n",
    "Check out the [pyplot Documentation](https://matplotlib.org/3.1.1/api/_as_gen/matplotlib.pyplot.html) for showing, saving and labelling your graph.\n",
    "\n",
    "For better looking visuals, check out [Seaborn](https://seaborn.pydata.org/)"
   ]
  },
  {
   "cell_type": "code",
   "execution_count": 10,
   "metadata": {},
   "outputs": [
    {
     "data": {
      "image/png": "[encoded data removed]",
      "text/plain": [
       "<Figure size 432x288 with 1 Axes>"
      ]
     },
     "metadata": {
      "needs_background": "light"
     },
     "output_type": "display_data"
    }
   ],
   "source": [
    "# weird thing for Jupyter Notebooks\n",
    "%matplotlib inline\n",
    "\n",
    "gdp_df.plot(x='year', y='GDP/cap')\n",
    "plt.show()"
   ]
  }
 ],
 "metadata": {
  "kernelspec": {
   "display_name": "Python 3",
   "language": "python",
   "name": "python3"
  },
  "language_info": {
   "codemirror_mode": {
    "name": "ipython",
    "version": 3
   },
   "file_extension": ".py",
   "mimetype": "text/x-python",
   "name": "python",
   "nbconvert_exporter": "python",
   "pygments_lexer": "ipython3",
   "version": "3.7.3"
  }
 },
 "nbformat": 4,
 "nbformat_minor": 2
}
